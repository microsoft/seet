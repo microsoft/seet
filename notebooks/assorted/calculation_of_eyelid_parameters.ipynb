{
 "cells": [
  {
   "cell_type": "markdown",
   "metadata": {},
   "source": [
    "# Calculation of Eyelid Parameters"
   ]
  },
  {
   "cell_type": "markdown",
   "metadata": {},
   "source": [
    "We model the eyelids as two planar curves whose planes intersect at an axis\n",
    "parallel to the user's x axis in Kiruna's coordinate system, corresponding to\n",
    "the user's right to left directions. Motion of the eyelids is described by\n",
    "their rotation around this fixed intersecting plane.\n",
    "\n",
    "Kiruna's canonical eye has a \"radius\" (distance from rotation center to cornea\n",
    "apex of approximately 15 mm (more precisely, 14.45 mm). Data in the medical\n",
    "literature (https://mixedrealitywiki.com/x/-gqtCQ) suggests that the average\n",
    "linear distance between the medial and lateral corners of the eyes (endocanthus\n",
    "and exocanthus, respectively) for broad demographical categories is 30 mm.\n",
    "Therefore, given these typical values, we stipulate that the intersection axis\n",
    "of the eyelids is likely to intersects the eye's rotation center, but we do\n",
    "allow for motion of this axis along the z direction through a parameter $d$. If\n",
    "$d = 0$  mm, the rotation axis (always parallel to the user's x axis)\n",
    "intersects the eye's rotation center; $d > 0$ mm indicates that the eyelid\n",
    "intersection axis is otherwise closer to the cornea apex, whereas $d < 0$ mm\n",
    "indicates that the intersection axis if father from the cornea apex.\n",
    "\n",
    "Following references in the medical literature, e.g.,\n",
    "https://www.ncbi.nlm.nih.gov/books/NBK539828/, we assume that, at nominal gaze,\n",
    "the upper eyelid rests at a position 1.5 mm below the upper limbus, whereas the\n",
    "lower eyelid rests at the lower limbus. The limbus radius in Kiruna's canonical\n",
    "eye has a radius of 6 mm, and it is at a distance of 11.1 mm from the eye's\n",
    "rotation center. These considerations provide sufficient data for the\n",
    "computation of the angle between the eye's optical axis and each of eyelid\n",
    "plane."
   ]
  },
  {
   "cell_type": "code",
   "execution_count": 1,
   "metadata": {},
   "outputs": [],
   "source": [
    "import torch\n",
    "\n",
    "distance_rotation_center_to_limbus_plane_mm = torch.tensor(11.1)\n",
    "limbus_radius_mm = torch.tensor(6.0)\n",
    "distance_upper_eyelid_to_upper_limbus_mm = torch.tensor(1.5)  # Eyelid is lower\n",
    "distance_rotation_center_to_eyelids_axis_mm = torch.tensor(0.0)\n",
    "distance_eyelid_axis_to_limbus_plane_mm = \\\n",
    "    distance_rotation_center_to_limbus_plane_mm - \\\n",
    "    distance_rotation_center_to_eyelids_axis_mm\n",
    "height_eyelid_on_limbus_plane_mm = \\\n",
    "    limbus_radius_mm - distance_upper_eyelid_to_upper_limbus_mm"
   ]
  },
  {
   "cell_type": "markdown",
   "metadata": {},
   "source": [
    "We now do a bit of trigonometry. The diagrams in\n",
    "https://mixedrealitywiki.com/x/-gqtCQ help."
   ]
  },
  {
   "cell_type": "code",
   "execution_count": 2,
   "metadata": {},
   "outputs": [
    {
     "name": "stdout",
     "output_type": "stream",
     "text": [
      "Canonical angle of upper eyelid plane (above optical axis): tensor(22.0679)\n",
      "Canonical angle of lower eyelid plane (below optical axis): tensor(28.3930)\n",
      "Sum of angles (total angular aperture): tensor(50.4609)\n"
     ]
    }
   ],
   "source": [
    "tan_angle_upper_eyelid_plane = \\\n",
    "    height_eyelid_on_limbus_plane_mm / distance_eyelid_axis_to_limbus_plane_mm\n",
    "angle_upper_eyelid_plane_rad = torch.atan(tan_angle_upper_eyelid_plane)\n",
    "angle_upper_eyelid_plane_deg = angle_upper_eyelid_plane_rad * 180 / torch.pi\n",
    "\n",
    "tan_angle_lower_eyelid_plane = \\\n",
    "    limbus_radius_mm / distance_eyelid_axis_to_limbus_plane_mm\n",
    "angle_lower_eyelid_plane_rad = torch.atan(tan_angle_lower_eyelid_plane)\n",
    "angle_lower_eyelid_plane_deg = angle_lower_eyelid_plane_rad * 180 / torch.pi\n",
    "\n",
    "print(\n",
    "    \"Canonical angle of upper eyelid plane (above optical axis):\",\n",
    "    angle_upper_eyelid_plane_deg\n",
    ")\n",
    "\n",
    "print(\n",
    "    \"Canonical angle of lower eyelid plane (below optical axis):\",\n",
    "    angle_lower_eyelid_plane_deg\n",
    ")\n",
    "\n",
    "print(\n",
    "    \"Sum of angles (total angular aperture):\",\n",
    "    angle_lower_eyelid_plane_deg + angle_upper_eyelid_plane_deg\n",
    ")"
   ]
  },
  {
   "cell_type": "markdown",
   "metadata": {},
   "source": [
    "## Motion Model"
   ]
  },
  {
   "cell_type": "markdown",
   "metadata": {},
   "source": [
    "To model the motion of the eyelids, we assume that the lower eyelid is fixed,\n",
    "and all the change in the height of the palpebral fissure comes from motion of\n",
    "the upper eyelid. Using data from\n",
    "https://mixedrealitywiki.com/display/ETI/2022-02-15+Eyelid+Model+for+Kiruna?preview=%2F162335486%2F176790791%2FThe_effect_of_vertical_gaze_position_on_ocular_tea.pdf,\n",
    "we assume that at an upwards gaze direction of 20 degrees the height of the\n",
    "palpebral fissure increases by 1.4 mm (from approx. 9.7 mm to approx. 11.1 mm)."
   ]
  },
  {
   "cell_type": "code",
   "execution_count": 3,
   "metadata": {},
   "outputs": [
    {
     "name": "stdout",
     "output_type": "stream",
     "text": [
      "Angle of upper eyelid plane (above optical axis) at 20 deg upwards gaze: tensor(27.9921)\n"
     ]
    }
   ],
   "source": [
    "increase_height_eyelid_on_limbus_plane_mm = torch.tensor(1.4)\n",
    "new_height_eyelid_on_limbus_plane_mm = \\\n",
    "    height_eyelid_on_limbus_plane_mm + \\\n",
    "    increase_height_eyelid_on_limbus_plane_mm\n",
    "\n",
    "tan_angle_upper_eyelid_plane = \\\n",
    "    new_height_eyelid_on_limbus_plane_mm / \\\n",
    "    distance_eyelid_axis_to_limbus_plane_mm\n",
    "angle_upper_eyelid_plane_rad = torch.atan(tan_angle_upper_eyelid_plane)\n",
    "angle_upper_eyelid_plane_deg = angle_upper_eyelid_plane_rad * 180 / torch.pi\n",
    "\n",
    "print(\n",
    "    \"Angle of upper eyelid plane (above optical axis) at 20 deg upwards gaze:\",\n",
    "    angle_upper_eyelid_plane_deg\n",
    ")"
   ]
  }
 ],
 "metadata": {
  "kernelspec": {
   "display_name": "SEET_env",
   "language": "python",
   "name": "python3"
  },
  "language_info": {
   "codemirror_mode": {
    "name": "ipython",
    "version": 3
   },
   "file_extension": ".py",
   "mimetype": "text/x-python",
   "name": "python",
   "nbconvert_exporter": "python",
   "pygments_lexer": "ipython3",
   "version": "3.12.11"
  },
  "orig_nbformat": 4
 },
 "nbformat": 4,
 "nbformat_minor": 2
}
