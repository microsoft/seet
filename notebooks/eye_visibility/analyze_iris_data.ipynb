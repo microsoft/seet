{
 "cells": [
  {
   "cell_type": "markdown",
   "metadata": {},
   "source": [
    "# Visualization of Glint Visibility Data"
   ]
  },
  {
   "cell_type": "markdown",
   "metadata": {},
   "source": [
    "This notebook generates plots for visualization of glint-visibility data."
   ]
  },
  {
   "cell_type": "code",
   "execution_count": 1,
   "metadata": {},
   "outputs": [
    {
     "data": {
      "application/vnd.jupyter.widget-view+json": {
       "model_id": "af3d07c5ecc04fe290ca2de518a63f30",
       "version_major": 2,
       "version_minor": 0
      },
      "text/plain": [
       "Text(value='.\\\\results\\\\.', description='Results:', placeholder=\"Default is '.'\")"
      ]
     },
     "metadata": {},
     "output_type": "display_data"
    }
   ],
   "source": [
    "%matplotlib widget\n",
    "\n",
    "from IPython.display import display, Markdown\n",
    "import kiruna\n",
    "import kiruna.visualization.sampler_visualization as sampler_visualization\n",
    "import matplotlib.pyplot as plt\n",
    "import numpy\n",
    "import os\n",
    "import pickle\n",
    "\n",
    "import sys\n",
    "\n",
    "sys.path.append(\"..\")\n",
    "import utils\n",
    "\n",
    "text_widget = utils.get_path(show=True)"
   ]
  },
  {
   "cell_type": "markdown",
   "metadata": {},
   "source": [
    "Read the glint-count data and generate glint-count statistics."
   ]
  },
  {
   "cell_type": "code",
   "execution_count": 4,
   "metadata": {},
   "outputs": [
    {
     "data": {
      "text/markdown": [
       "|Parameter (N = 200)|Mean|Std|Min|Max|5%-ile|95%-ile\n",
       "|Percentage visible|100.0|0.0|100.0|100.0|100.0|100.0\n",
       "|Area in iris [mm^2]|101.8|0.0|101.8|101.8|101.8|101.8\n",
       "|Area in image [pix^2]|5451.6|734.4|4240.5|7853.1|4515.2|6914.3\n"
      ],
      "text/plain": [
       "<IPython.core.display.Markdown object>"
      ]
     },
     "metadata": {},
     "output_type": "display_data"
    },
    {
     "name": "stdout",
     "output_type": "stream",
     "text": [
      "|Parameter (N = 200)|Mean|Std|Min|Max|5%-ile|95%-ile\n",
      "|Percentage visible|100.0|0.0|100.0|100.0|100.0|100.0\n",
      "|Area in iris [mm^2]|101.8|0.0|101.8|101.8|101.8|101.8\n",
      "|Area in image [pix^2]|5451.6|734.4|4240.5|7853.1|4515.2|6914.3\n",
      "\n"
     ]
    }
   ],
   "source": [
    "pickle_file_name = text_widget.value\n",
    "full_prefix_name = pickle_file_name.split(\" data_frame.pkl\")[0]\n",
    "\n",
    "with open(pickle_file_name, 'rb') as file_stream:\n",
    "    df = pickle.load(file_stream)\n",
    "\n",
    "iris_visibility = kiruna.sampler.IrisVisibilityStatistics(df)\n",
    "\n",
    "display(Markdown(iris_visibility.table))\n",
    "print(iris_visibility.table)"
   ]
  }
 ],
 "metadata": {
  "kernelspec": {
   "display_name": "Python 3.8.13 ('base')",
   "language": "python",
   "name": "python3"
  },
  "language_info": {
   "codemirror_mode": {
    "name": "ipython",
    "version": 3
   },
   "file_extension": ".py",
   "mimetype": "text/x-python",
   "name": "python",
   "nbconvert_exporter": "python",
   "pygments_lexer": "ipython3",
   "version": "3.11.6"
  },
  "orig_nbformat": 4,
  "vscode": {
   "interpreter": {
    "hash": "c6e74ef56ea646d214329d5f12937357b8d917f3a9ef914e4b619422d41457ef"
   }
  }
 },
 "nbformat": 4,
 "nbformat_minor": 2
}
