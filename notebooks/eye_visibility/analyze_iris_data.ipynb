{
 "cells": [
  {
   "cell_type": "markdown",
   "metadata": {},
   "source": [
    "# Visualization of Glint Visibility Data"
   ]
  },
  {
   "cell_type": "markdown",
   "metadata": {},
   "source": [
    "This notebook generates plots for visualization of glint-visibility data."
   ]
  },
  {
   "cell_type": "code",
   "execution_count": 1,
   "metadata": {},
   "outputs": [
    {
     "data": {
      "application/vnd.jupyter.widget-view+json": {
       "model_id": "55511b494ee944b18cc31d921472952f",
       "version_major": 2,
       "version_minor": 0
      },
      "text/plain": [
       "Text(value='.\\\\results\\\\.', description='Results:', placeholder=\"Default is '.'\")"
      ]
     },
     "metadata": {},
     "output_type": "display_data"
    }
   ],
   "source": [
    "%matplotlib widget\n",
    "\n",
    "from IPython.display import display, Markdown\n",
    "import seet\n",
    "import seet.visualization.sampler_visualization as sampler_visualization\n",
    "import matplotlib.pyplot as plt\n",
    "import numpy\n",
    "import os\n",
    "import pickle\n",
    "\n",
    "import sys\n",
    "\n",
    "sys.path.append(\"..\")\n",
    "import utils\n",
    "\n",
    "text_widget = utils.get_path(show=True)"
   ]
  },
  {
   "cell_type": "code",
   "execution_count": 2,
   "metadata": {},
   "outputs": [
    {
     "name": "stdout",
     "output_type": "stream",
     "text": [
      "Available pickle files:\n",
      "0: ./results\\default\\2025-09-21 @ 14-12-14.254377 data_frame.pkl\n",
      "1: ./results\\default\\iris - 2025-09-21 @ 14-39-40.816655 data_frame.pkl\n",
      "\n",
      "Most recent file: ./results\\default\\iris - 2025-09-21 @ 14-39-40.816655 data_frame.pkl\n",
      "You can either:\n",
      "1. Use the text widget below and manually edit the path\n",
      "2. Or run the next cell which will automatically use the most recent file\n"
     ]
    }
   ],
   "source": [
    "# Helper function to find available pickle files\n",
    "import glob\n",
    "\n",
    "def find_pickle_files(base_path=\"./results\"):\n",
    "    \"\"\"Find all pickle files in the results directory\"\"\"\n",
    "    pattern = os.path.join(base_path, \"**\", \"*.pkl\")\n",
    "    pickle_files = glob.glob(pattern, recursive=True)\n",
    "    return pickle_files\n",
    "\n",
    "# Display available pickle files\n",
    "available_files = find_pickle_files()\n",
    "print(\"Available pickle files:\")\n",
    "for i, file in enumerate(available_files):\n",
    "    print(f\"{i}: {file}\")\n",
    "\n",
    "if available_files:\n",
    "    print(f\"\\nMost recent file: {available_files[-1]}\")\n",
    "    print(\"You can either:\")\n",
    "    print(\"1. Use the text widget below and manually edit the path\")\n",
    "    print(\"2. Or run the next cell which will automatically use the most recent file\")\n",
    "else:\n",
    "    print(\"No pickle files found in ./results directory\")"
   ]
  },
  {
   "cell_type": "code",
   "execution_count": 3,
   "metadata": {},
   "outputs": [
    {
     "data": {
      "application/vnd.jupyter.widget-view+json": {
       "model_id": "28ad17c95dba4e3a95f97f9455ad9a36",
       "version_major": 2,
       "version_minor": 0
      },
      "text/plain": [
       "Text(value='.\\\\results\\\\.', description='Results:', placeholder=\"Default is '.'\")"
      ]
     },
     "metadata": {},
     "output_type": "display_data"
    },
    {
     "name": "stdout",
     "output_type": "stream",
     "text": [
      "\n",
      "Edit the text widget above to point to a specific .pkl file\n"
     ]
    }
   ],
   "source": [
    "# Option 1: Use the file picker widget (you'll need to edit the path manually)\n",
    "text_widget = utils.get_path(show=True)\n",
    "print(\"\\nEdit the text widget above to point to a specific .pkl file\")"
   ]
  },
  {
   "cell_type": "code",
   "execution_count": 4,
   "metadata": {},
   "outputs": [
    {
     "name": "stdout",
     "output_type": "stream",
     "text": [
      "Automatically selected: ./results\\default\\iris - 2025-09-21 @ 14-39-40.816655 data_frame.pkl\n",
      "Using file: ./results\\default\\iris - 2025-09-21 @ 14-39-40.816655 data_frame.pkl\n"
     ]
    }
   ],
   "source": [
    "# Option 2: Automatically use the most recent pickle file\n",
    "available_files = find_pickle_files()\n",
    "if available_files:\n",
    "    pickle_file_name = available_files[-1]  # Use most recent file\n",
    "    print(f\"Automatically selected: {pickle_file_name}\")\n",
    "else:\n",
    "    pickle_file_name = input(\"Please enter the path to your pickle file: \")\n",
    "    \n",
    "print(f\"Using file: {pickle_file_name}\")"
   ]
  },
  {
   "cell_type": "markdown",
   "metadata": {},
   "source": [
    "Read the glint-count data and generate glint-count statistics."
   ]
  },
  {
   "cell_type": "code",
   "execution_count": 5,
   "metadata": {},
   "outputs": [
    {
     "data": {
      "text/markdown": [
       "|Parameter (N = 200)|Mean|Std|Min|Max|5%-ile|95%-ile\n",
       "|Percentage visible|100.0|0.0|100.0|100.0|100.0|100.0\n",
       "|Area in iris [mm^2]|101.8|0.0|101.8|101.8|101.8|101.8\n",
       "|Area in image [pix^2]|2519.5|353.1|1936.4|3588.1|2049.6|3239.8\n"
      ],
      "text/plain": [
       "<IPython.core.display.Markdown object>"
      ]
     },
     "metadata": {},
     "output_type": "display_data"
    },
    {
     "name": "stdout",
     "output_type": "stream",
     "text": [
      "|Parameter (N = 200)|Mean|Std|Min|Max|5%-ile|95%-ile\n",
      "|Percentage visible|100.0|0.0|100.0|100.0|100.0|100.0\n",
      "|Area in iris [mm^2]|101.8|0.0|101.8|101.8|101.8|101.8\n",
      "|Area in image [pix^2]|2519.5|353.1|1936.4|3588.1|2049.6|3239.8\n",
      "\n",
      "\n",
      "Successfully loaded data from: ./results\\default\\iris - 2025-09-21 @ 14-39-40.816655 data_frame.pkl\n"
     ]
    }
   ],
   "source": [
    "# Read the pickle file\n",
    "# If you used Option 1 above, uncomment the next line:\n",
    "# pickle_file_name = text_widget.value\n",
    "\n",
    "# If you used Option 2, pickle_file_name is already set\n",
    "if not 'pickle_file_name' in locals():\n",
    "    print(\"Error: pickle_file_name not set. Please run one of the cells above to select a file.\")\n",
    "else:\n",
    "    # Validate that the file exists and is not a directory\n",
    "    if os.path.isdir(pickle_file_name):\n",
    "        print(f\"Error: '{pickle_file_name}' is a directory, not a file.\")\n",
    "        print(\"Please modify the path to point to a specific .pkl file.\")\n",
    "        print(\"Example: ./results/default/2025-09-16 @ 08-13-14.118019 data_frame.pkl\")\n",
    "    elif not os.path.exists(pickle_file_name):\n",
    "        print(f\"Error: File '{pickle_file_name}' does not exist.\")\n",
    "    elif not pickle_file_name.endswith('.pkl'):\n",
    "        print(f\"Warning: '{pickle_file_name}' does not appear to be a pickle file (.pkl)\")\n",
    "        \n",
    "    try:\n",
    "        full_prefix_name = pickle_file_name.split(\" data_frame.pkl\")[0]\n",
    "        \n",
    "        with open(pickle_file_name, 'rb') as file_stream:\n",
    "            df = pickle.load(file_stream)\n",
    "        \n",
    "        iris_visibility = seet.sampler.IrisVisibilityStatistics(df)\n",
    "        \n",
    "        display(Markdown(iris_visibility.table))\n",
    "        print(iris_visibility.table)\n",
    "        \n",
    "        print(f\"\\nSuccessfully loaded data from: {pickle_file_name}\")\n",
    "        \n",
    "    except Exception as e:\n",
    "        print(f\"Error reading pickle file: {e}\")\n",
    "        print(f\"File path: {pickle_file_name}\")\n",
    "        print(\"Please check that the file path is correct and the file is a valid pickle file.\")"
   ]
  }
 ],
 "metadata": {
  "kernelspec": {
   "display_name": "SEET_env",
   "language": "python",
   "name": "python3"
  },
  "language_info": {
   "codemirror_mode": {
    "name": "ipython",
    "version": 3
   },
   "file_extension": ".py",
   "mimetype": "text/x-python",
   "name": "python",
   "nbconvert_exporter": "python",
   "pygments_lexer": "ipython3",
   "version": "3.11.13"
  },
  "orig_nbformat": 4
 },
 "nbformat": 4,
 "nbformat_minor": 2
}
