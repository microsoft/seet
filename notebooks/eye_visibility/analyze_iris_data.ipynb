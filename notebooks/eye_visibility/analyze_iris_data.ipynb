{
 "cells": [
  {
   "cell_type": "markdown",
   "metadata": {},
   "source": [
    "# Visualization of Glint Visibility Data"
   ]
  },
  {
   "cell_type": "markdown",
   "metadata": {},
   "source": [
    "This notebook generates plots for visualization of glint-visibility data."
   ]
  },
  {
   "cell_type": "code",
   "execution_count": 2,
   "metadata": {},
   "outputs": [
    {
     "data": {
      "application/vnd.jupyter.widget-view+json": {
       "model_id": "54d19c47fd6d46a99afd72a92e628dc3",
       "version_major": 2,
       "version_minor": 0
      },
      "text/plain": [
       "Text(value='.\\\\results\\\\.', description='Results:', placeholder=\"Default is '.'\")"
      ]
     },
     "metadata": {},
     "output_type": "display_data"
    }
   ],
   "source": [
    "%matplotlib widget\n",
    "\n",
    "from IPython.display import display, Markdown\n",
    "import seet\n",
    "import seet.visualization.sampler_visualization as sampler_visualization\n",
    "import matplotlib.pyplot as plt\n",
    "import numpy\n",
    "import os\n",
    "import pickle\n",
    "\n",
    "import sys\n",
    "\n",
    "sys.path.append(\"..\")\n",
    "import utils\n",
    "\n",
    "text_widget = utils.get_path(show=True)"
   ]
  },
  {
   "cell_type": "code",
   "execution_count": null,
   "metadata": {},
   "outputs": [],
   "source": [
    "# Helper function to find available pickle files\n",
    "import glob\n",
    "\n",
    "def find_pickle_files(base_path=\"./results\"):\n",
    "    \"\"\"Find all pickle files in the results directory\"\"\"\n",
    "    pattern = os.path.join(base_path, \"**\", \"*.pkl\")\n",
    "    pickle_files = glob.glob(pattern, recursive=True)\n",
    "    return pickle_files\n",
    "\n",
    "# Display available pickle files\n",
    "available_files = find_pickle_files()\n",
    "print(\"Available pickle files:\")\n",
    "for i, file in enumerate(available_files):\n",
    "    print(f\"{i}: {file}\")\n",
    "\n",
    "if available_files:\n",
    "    print(f\"\\nMost recent file: {available_files[-1]}\")\n",
    "    print(\"You can either:\")\n",
    "    print(\"1. Use the text widget below and manually edit the path\")\n",
    "    print(\"2. Or run the next cell which will automatically use the most recent file\")\n",
    "else:\n",
    "    print(\"No pickle files found in ./results directory\")"
   ]
  },
  {
   "cell_type": "code",
   "execution_count": null,
   "metadata": {},
   "outputs": [],
   "source": [
    "# Option 1: Use the file picker widget (you'll need to edit the path manually)\n",
    "text_widget = utils.get_path(show=True)\n",
    "print(\"\\nEdit the text widget above to point to a specific .pkl file\")"
   ]
  },
  {
   "cell_type": "code",
   "execution_count": null,
   "metadata": {},
   "outputs": [],
   "source": [
    "# Option 2: Automatically use the most recent pickle file\n",
    "available_files = find_pickle_files()\n",
    "if available_files:\n",
    "    pickle_file_name = available_files[-1]  # Use most recent file\n",
    "    print(f\"Automatically selected: {pickle_file_name}\")\n",
    "else:\n",
    "    pickle_file_name = input(\"Please enter the path to your pickle file: \")\n",
    "    \n",
    "print(f\"Using file: {pickle_file_name}\")"
   ]
  },
  {
   "cell_type": "markdown",
   "metadata": {},
   "source": [
    "Read the glint-count data and generate glint-count statistics."
   ]
  },
  {
   "cell_type": "code",
   "execution_count": null,
   "metadata": {},
   "outputs": [
    {
     "ename": "PermissionError",
     "evalue": "[Errno 13] Permission denied: '.\\\\results\\\\.'",
     "output_type": "error",
     "traceback": [
      "\u001b[31m---------------------------------------------------------------------------\u001b[39m",
      "\u001b[31mPermissionError\u001b[39m                           Traceback (most recent call last)",
      "\u001b[36mCell\u001b[39m\u001b[36m \u001b[39m\u001b[32mIn[3]\u001b[39m\u001b[32m, line 4\u001b[39m\n\u001b[32m      1\u001b[39m pickle_file_name = text_widget.value\n\u001b[32m      2\u001b[39m full_prefix_name = pickle_file_name.split(\u001b[33m\"\u001b[39m\u001b[33m data_frame.pkl\u001b[39m\u001b[33m\"\u001b[39m)[\u001b[32m0\u001b[39m]\n\u001b[32m----> \u001b[39m\u001b[32m4\u001b[39m \u001b[38;5;28;01mwith\u001b[39;00m \u001b[38;5;28;43mopen\u001b[39;49m\u001b[43m(\u001b[49m\u001b[43mpickle_file_name\u001b[49m\u001b[43m,\u001b[49m\u001b[43m \u001b[49m\u001b[33;43m'\u001b[39;49m\u001b[33;43mrb\u001b[39;49m\u001b[33;43m'\u001b[39;49m\u001b[43m)\u001b[49m \u001b[38;5;28;01mas\u001b[39;00m file_stream:\n\u001b[32m      5\u001b[39m     df = pickle.load(file_stream)\n\u001b[32m      7\u001b[39m iris_visibility = seet.sampler.IrisVisibilityStatistics(df)\n",
      "\u001b[36mFile \u001b[39m\u001b[32mc:\\Users\\padossa\\micromamba\\envs\\SEET_env\\Lib\\site-packages\\IPython\\core\\interactiveshell.py:343\u001b[39m, in \u001b[36m_modified_open\u001b[39m\u001b[34m(file, *args, **kwargs)\u001b[39m\n\u001b[32m    336\u001b[39m \u001b[38;5;28;01mif\u001b[39;00m file \u001b[38;5;129;01min\u001b[39;00m {\u001b[32m0\u001b[39m, \u001b[32m1\u001b[39m, \u001b[32m2\u001b[39m}:\n\u001b[32m    337\u001b[39m     \u001b[38;5;28;01mraise\u001b[39;00m \u001b[38;5;167;01mValueError\u001b[39;00m(\n\u001b[32m    338\u001b[39m         \u001b[33mf\u001b[39m\u001b[33m\"\u001b[39m\u001b[33mIPython won\u001b[39m\u001b[33m'\u001b[39m\u001b[33mt let you open fd=\u001b[39m\u001b[38;5;132;01m{\u001b[39;00mfile\u001b[38;5;132;01m}\u001b[39;00m\u001b[33m by default \u001b[39m\u001b[33m\"\u001b[39m\n\u001b[32m    339\u001b[39m         \u001b[33m\"\u001b[39m\u001b[33mas it is likely to crash IPython. If you know what you are doing, \u001b[39m\u001b[33m\"\u001b[39m\n\u001b[32m    340\u001b[39m         \u001b[33m\"\u001b[39m\u001b[33myou can use builtins\u001b[39m\u001b[33m'\u001b[39m\u001b[33m open.\u001b[39m\u001b[33m\"\u001b[39m\n\u001b[32m    341\u001b[39m     )\n\u001b[32m--> \u001b[39m\u001b[32m343\u001b[39m \u001b[38;5;28;01mreturn\u001b[39;00m \u001b[43mio_open\u001b[49m\u001b[43m(\u001b[49m\u001b[43mfile\u001b[49m\u001b[43m,\u001b[49m\u001b[43m \u001b[49m\u001b[43m*\u001b[49m\u001b[43margs\u001b[49m\u001b[43m,\u001b[49m\u001b[43m \u001b[49m\u001b[43m*\u001b[49m\u001b[43m*\u001b[49m\u001b[43mkwargs\u001b[49m\u001b[43m)\u001b[49m\n",
      "\u001b[31mPermissionError\u001b[39m: [Errno 13] Permission denied: '.\\\\results\\\\.'"
     ]
    }
   ],
   "source": [
    "# Read the pickle file\n",
    "# If you used Option 1 above, uncomment the next line:\n",
    "# pickle_file_name = text_widget.value\n",
    "\n",
    "# If you used Option 2, pickle_file_name is already set\n",
    "if not 'pickle_file_name' in locals():\n",
    "    print(\"Error: pickle_file_name not set. Please run one of the cells above to select a file.\")\n",
    "else:\n",
    "    # Validate that the file exists and is not a directory\n",
    "    if os.path.isdir(pickle_file_name):\n",
    "        print(f\"Error: '{pickle_file_name}' is a directory, not a file.\")\n",
    "        print(\"Please modify the path to point to a specific .pkl file.\")\n",
    "        print(\"Example: ./results/default/2025-09-16 @ 08-13-14.118019 data_frame.pkl\")\n",
    "    elif not os.path.exists(pickle_file_name):\n",
    "        print(f\"Error: File '{pickle_file_name}' does not exist.\")\n",
    "    elif not pickle_file_name.endswith('.pkl'):\n",
    "        print(f\"Warning: '{pickle_file_name}' does not appear to be a pickle file (.pkl)\")\n",
    "        \n",
    "    try:\n",
    "        full_prefix_name = pickle_file_name.split(\" data_frame.pkl\")[0]\n",
    "        \n",
    "        with open(pickle_file_name, 'rb') as file_stream:\n",
    "            df = pickle.load(file_stream)\n",
    "        \n",
    "        iris_visibility = seet.sampler.IrisVisibilityStatistics(df)\n",
    "        \n",
    "        display(Markdown(iris_visibility.table))\n",
    "        print(iris_visibility.table)\n",
    "        \n",
    "        print(f\"\\nSuccessfully loaded data from: {pickle_file_name}\")\n",
    "        \n",
    "    except Exception as e:\n",
    "        print(f\"Error reading pickle file: {e}\")\n",
    "        print(f\"File path: {pickle_file_name}\")\n",
    "        print(\"Please check that the file path is correct and the file is a valid pickle file.\")"
   ]
  }
 ],
 "metadata": {
  "kernelspec": {
   "display_name": "SEET_env",
   "language": "python",
   "name": "python3"
  },
  "language_info": {
   "codemirror_mode": {
    "name": "ipython",
    "version": 3
   },
   "file_extension": ".py",
   "mimetype": "text/x-python",
   "name": "python",
   "nbconvert_exporter": "python",
   "pygments_lexer": "ipython3",
   "version": "3.12.11"
  },
  "orig_nbformat": 4
 },
 "nbformat": 4,
 "nbformat_minor": 2
}
