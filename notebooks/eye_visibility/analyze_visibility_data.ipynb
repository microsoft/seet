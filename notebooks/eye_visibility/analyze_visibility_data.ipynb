{
  "cells": [
    {
      "cell_type": "markdown",
      "metadata": {},
      "source": [
        "# Visualization of Glint Visibility Data"
      ]
    },
    {
      "cell_type": "markdown",
      "metadata": {},
      "source": [
        "This notebook generates plots for visualization of glint-visibility data."
      ]
    },
    {
      "cell_type": "code",
      "execution_count": 7,
      "metadata": {},
      "outputs": [
        {
          "data": {
            "application/vnd.jupyter.widget-view+json": {
              "model_id": "f581a45f00824e31a8c007cd5d6dce6d",
              "version_major": 2,
              "version_minor": 0
            },
            "text/plain": [
              "Text(value='.\\\\results\\\\.', description='Results:', placeholder=\"Default is '.'\")"
            ]
          },
          "metadata": {},
          "output_type": "display_data"
        }
      ],
      "source": [
        "%matplotlib widget\n",
        "\n",
        "from IPython.display import display, Markdown\n",
        "import seet\n",
        "import seet.visualization.sampler_visualization as sampler_visualization\n",
        "import matplotlib.pyplot as plt\n",
        "import numpy\n",
        "import os\n",
        "import pickle\n",
        "import sys\n",
        "\n",
        "sys.path.append(\"..\")\n",
        "import utils\n",
        "\n",
        "text_widget = utils.get_path(show=True)"
      ]
    },
    {
      "cell_type": "markdown",
      "metadata": {},
      "source": [
        "Read the glint-count data and generate glint-count statistics."
      ]
    },
    {
      "cell_type": "code",
      "execution_count": 8,
      "metadata": {},
      "outputs": [
        {
          "ename": "PermissionError",
          "evalue": "[Errno 13] Permission denied: '.\\\\results\\\\.'",
          "output_type": "error",
          "traceback": [
            "\u001b[31m---------------------------------------------------------------------------\u001b[39m",
            "\u001b[31mPermissionError\u001b[39m                           Traceback (most recent call last)",
            "\u001b[36mCell\u001b[39m\u001b[36m \u001b[39m\u001b[32mIn[8]\u001b[39m\u001b[32m, line 4\u001b[39m\n\u001b[32m      1\u001b[39m pickle_file_name = text_widget.value\n\u001b[32m      2\u001b[39m full_prefix_name = pickle_file_name.split(\u001b[33m\"\u001b[39m\u001b[33m data_frame.pkl\u001b[39m\u001b[33m\"\u001b[39m)[\u001b[32m0\u001b[39m]\n\u001b[32m----> \u001b[39m\u001b[32m4\u001b[39m \u001b[38;5;28;01mwith\u001b[39;00m \u001b[38;5;28;43mopen\u001b[39;49m\u001b[43m(\u001b[49m\u001b[43mpickle_file_name\u001b[49m\u001b[43m,\u001b[49m\u001b[43m \u001b[49m\u001b[33;43m'\u001b[39;49m\u001b[33;43mrb\u001b[39;49m\u001b[33;43m'\u001b[39;49m\u001b[43m)\u001b[49m \u001b[38;5;28;01mas\u001b[39;00m file_stream:\n\u001b[32m      5\u001b[39m     df = pickle.load(file_stream)\n\u001b[32m      7\u001b[39m glint_counter = seet.sampler.GlintCountStatistics(df)\n",
            "\u001b[36mFile \u001b[39m\u001b[32mc:\\Users\\muruwu\\AppData\\Local\\miniconda3\\envs\\SEET_env\\Lib\\site-packages\\IPython\\core\\interactiveshell.py:343\u001b[39m, in \u001b[36m_modified_open\u001b[39m\u001b[34m(file, *args, **kwargs)\u001b[39m\n\u001b[32m    336\u001b[39m \u001b[38;5;28;01mif\u001b[39;00m file \u001b[38;5;129;01min\u001b[39;00m {\u001b[32m0\u001b[39m, \u001b[32m1\u001b[39m, \u001b[32m2\u001b[39m}:\n\u001b[32m    337\u001b[39m     \u001b[38;5;28;01mraise\u001b[39;00m \u001b[38;5;167;01mValueError\u001b[39;00m(\n\u001b[32m    338\u001b[39m         \u001b[33mf\u001b[39m\u001b[33m\"\u001b[39m\u001b[33mIPython won\u001b[39m\u001b[33m'\u001b[39m\u001b[33mt let you open fd=\u001b[39m\u001b[38;5;132;01m{\u001b[39;00mfile\u001b[38;5;132;01m}\u001b[39;00m\u001b[33m by default \u001b[39m\u001b[33m\"\u001b[39m\n\u001b[32m    339\u001b[39m         \u001b[33m\"\u001b[39m\u001b[33mas it is likely to crash IPython. If you know what you are doing, \u001b[39m\u001b[33m\"\u001b[39m\n\u001b[32m    340\u001b[39m         \u001b[33m\"\u001b[39m\u001b[33myou can use builtins\u001b[39m\u001b[33m'\u001b[39m\u001b[33m open.\u001b[39m\u001b[33m\"\u001b[39m\n\u001b[32m    341\u001b[39m     )\n\u001b[32m--> \u001b[39m\u001b[32m343\u001b[39m \u001b[38;5;28;01mreturn\u001b[39;00m \u001b[43mio_open\u001b[49m\u001b[43m(\u001b[49m\u001b[43mfile\u001b[49m\u001b[43m,\u001b[49m\u001b[43m \u001b[49m\u001b[43m*\u001b[49m\u001b[43margs\u001b[49m\u001b[43m,\u001b[49m\u001b[43m \u001b[49m\u001b[43m*\u001b[49m\u001b[43m*\u001b[49m\u001b[43mkwargs\u001b[49m\u001b[43m)\u001b[49m\n",
            "\u001b[31mPermissionError\u001b[39m: [Errno 13] Permission denied: '.\\\\results\\\\.'"
          ]
        }
      ],
      "source": [
        "pickle_file_name = text_widget.value\n",
        "full_prefix_name = pickle_file_name.split(\" data_frame.pkl\")[0]\n",
        "\n",
        "with open(pickle_file_name, 'rb') as file_stream:\n",
        "    df = pickle.load(file_stream)\n",
        "\n",
        "glint_counter = seet.sampler.GlintCountStatistics(df)\n",
        "visibility = seet.sampler.EyeVisibilityStatistics(df)\n",
        "\n",
        "print(\"Eye visibility data\")\n",
        "display(Markdown(visibility.table))\n",
        "print(visibility.table)\n"
      ]
    },
    {
      "cell_type": "markdown",
      "metadata": {},
      "source": [
        "## Plots"
      ]
    },
    {
      "cell_type": "markdown",
      "metadata": {},
      "source": [
        "Overall glint count."
      ]
    },
    {
      "cell_type": "code",
      "execution_count": 5,
      "metadata": {},
      "outputs": [
        {
          "ename": "NameError",
          "evalue": "name 'visibility' is not defined",
          "output_type": "error",
          "traceback": [
            "\u001b[31m---------------------------------------------------------------------------\u001b[39m",
            "\u001b[31mNameError\u001b[39m                                 Traceback (most recent call last)",
            "\u001b[36mCell\u001b[39m\u001b[36m \u001b[39m\u001b[32mIn[3]\u001b[39m\u001b[32m, line 4\u001b[39m\n\u001b[32m      1\u001b[39m plot_name = full_prefix_name + \u001b[33m\"\u001b[39m\u001b[33m \u001b[39m\u001b[33m\"\u001b[39m + \u001b[33m\"\u001b[39m\u001b[33moverall_glint_count.png\u001b[39m\u001b[33m\"\u001b[39m  \u001b[38;5;66;03m# Extra space!\u001b[39;00m\n\u001b[32m      3\u001b[39m seet.visualization.sampler_visualization.plot_gaze_to_camera_histograms(\n\u001b[32m----> \u001b[39m\u001b[32m4\u001b[39m     \u001b[43mvisibility\u001b[49m, path_prefix=full_prefix_name\n\u001b[32m      5\u001b[39m )\n\u001b[32m      7\u001b[39m gaze_grid = \\\n\u001b[32m      8\u001b[39m     seet.visualization.sampler_visualization.convert_gazes_to_grid(\n\u001b[32m      9\u001b[39m         glint_counter.gazes\n\u001b[32m     10\u001b[39m     )\n\u001b[32m     12\u001b[39m sampler_visualization.plot_overall_glint_count(\n\u001b[32m     13\u001b[39m     glint_counter, plot_name=plot_name\n\u001b[32m     14\u001b[39m )\n",
            "\u001b[31mNameError\u001b[39m: name 'visibility' is not defined"
          ]
        }
      ],
      "source": [
        "plot_name = full_prefix_name + \" \" + \"overall_glint_count.png\"  # Extra space!\n",
        "\n",
        "seet.visualization.sampler_visualization.plot_gaze_to_camera_histograms(\n",
        "    visibility, path_prefix=full_prefix_name\n",
        ")\n",
        "\n",
        "gaze_grid = \\\n",
        "    seet.visualization.sampler_visualization.convert_gazes_to_grid(\n",
        "        glint_counter.gazes\n",
        "    )\n",
        "\n",
        "sampler_visualization.plot_overall_glint_count(\n",
        "    glint_counter, plot_name=plot_name\n",
        ")\n",
        "\n",
        "sampler_visualization.plot_glint_count_per_gaze(\n",
        "    glint_counter, path_prefix=full_prefix_name\n",
        ")\n",
        "\n",
        "all_tables = sampler_visualization.plot_population_and_fov_coverage_per_min_glint_count(\n",
        "    glint_counter, path_prefix=full_prefix_name\n",
        ")\n",
        "\n",
        "print(\"Glint count data in table format\")\n",
        "for table in all_tables:\n",
        "    print(table)\n",
        "\n",
        "plt.show()"
      ]
    }
  ],
  "metadata": {
    "kernelspec": {
      "display_name": "Python 3.10.7 64-bit",
      "language": "python",
      "name": "python3"
    },
    "language_info": {
      "codemirror_mode": {
        "name": "ipython",
        "version": 3
      },
      "file_extension": ".py",
      "mimetype": "text/x-python",
      "name": "python",
      "nbconvert_exporter": "python",
      "pygments_lexer": "ipython3",
      "version": "3.11.6"
    },
    "orig_nbformat": 4,
    "vscode": {
      "interpreter": {
        "hash": "844583427e5038811000acc33dbd3886a0bc42a322e35230bd3f0aa9b2b5c5a0"
      }
    }
  },
  "nbformat": 4,
  "nbformat_minor": 2
}
