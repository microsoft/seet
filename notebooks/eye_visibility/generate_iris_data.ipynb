{
 "cells": [
  {
   "cell_type": "markdown",
   "metadata": {},
   "source": [
    "# Generate Data for Analysis of Iris Visibility"
   ]
  },
  {
   "cell_type": "markdown",
   "metadata": {},
   "source": [
    "This notebook generates data for analysis of glint visibility.\n",
    "Generation of 100 combined user-device samples x two eyes x 20 gaze directions,\n",
    "i.e., 4,000 individual samples, takes about 10-15 min on a beefy machine."
   ]
  },
  {
   "cell_type": "code",
   "execution_count": 1,
   "metadata": {},
   "outputs": [
    {
     "data": {
      "application/vnd.jupyter.widget-view+json": {
       "model_id": "def8631572644954836e2eb9219d2380",
       "version_major": 2,
       "version_minor": 0
      },
      "text/plain": [
       "RadioButtons(description='Device:', options=('default',), value='default')"
      ]
     },
     "metadata": {},
     "output_type": "display_data"
    },
    {
     "data": {
      "application/vnd.jupyter.widget-view+json": {
       "model_id": "09eb599fe5a74c36acd55ff9b554bd3e",
       "version_major": 2,
       "version_minor": 0
      },
      "text/plain": [
       "Text(value='.\\\\results\\\\default', description='Results:', placeholder=\"Default is '.'\")"
      ]
     },
     "metadata": {},
     "output_type": "display_data"
    }
   ],
   "source": [
    "%matplotlib widget\n",
    "\n",
    "import datetime\n",
    "import seet\n",
    "import os\n",
    "import pickle\n",
    "import sys\n",
    "import torch\n",
    "import seet.core as core\n",
    "import pandas\n",
    "\n",
    "sys.path.append(\"..\")\n",
    "import utils\n",
    "\n",
    "dropdown, text = utils.get_experiment_info()"
   ]
  },
  {
   "cell_type": "markdown",
   "metadata": {},
   "source": [
    "## Data Generation"
   ]
  },
  {
   "cell_type": "markdown",
   "metadata": {},
   "source": [
    "This takes 10-15 min on a beefy machine."
   ]
  },
  {
   "cell_type": "code",
   "execution_count": 2,
   "metadata": {},
   "outputs": [
    {
     "name": "stdout",
     "output_type": "stream",
     "text": [
      "Scene generated using C:\\Users\\padossa\\repos\\seet\\seet\\scene\\default_scene/default_scene.json configuration file.\n",
      "Sampling parameters from C:\\Users\\padossa\\repos\\seet\\seet\\sampler\\default_sampler/default_scene_sampler.json configuration file.\n"
     ]
    },
    {
     "data": {
      "text/html": [
       "<div>\n",
       "<style scoped>\n",
       "    .dataframe tbody tr th:only-of-type {\n",
       "        vertical-align: middle;\n",
       "    }\n",
       "\n",
       "    .dataframe tbody tr th {\n",
       "        vertical-align: top;\n",
       "    }\n",
       "\n",
       "    .dataframe thead th {\n",
       "        text-align: right;\n",
       "    }\n",
       "</style>\n",
       "<table border=\"1\" class=\"dataframe\">\n",
       "  <thead>\n",
       "    <tr style=\"text-align: right;\">\n",
       "      <th></th>\n",
       "      <th>Subsystem</th>\n",
       "      <th>Percentage visible</th>\n",
       "      <th>Area in iris [mm^2]</th>\n",
       "      <th>Area in image [pix^2]</th>\n",
       "    </tr>\n",
       "  </thead>\n",
       "  <tbody>\n",
       "    <tr>\n",
       "      <th>0</th>\n",
       "      <td>0</td>\n",
       "      <td>100.000008</td>\n",
       "      <td>101.787613</td>\n",
       "      <td>3405.573486</td>\n",
       "    </tr>\n",
       "    <tr>\n",
       "      <th>1</th>\n",
       "      <td>1</td>\n",
       "      <td>100.000008</td>\n",
       "      <td>101.787613</td>\n",
       "      <td>3368.374023</td>\n",
       "    </tr>\n",
       "    <tr>\n",
       "      <th>2</th>\n",
       "      <td>0</td>\n",
       "      <td>100.000008</td>\n",
       "      <td>101.787613</td>\n",
       "      <td>2762.216064</td>\n",
       "    </tr>\n",
       "    <tr>\n",
       "      <th>3</th>\n",
       "      <td>1</td>\n",
       "      <td>100.000008</td>\n",
       "      <td>101.787613</td>\n",
       "      <td>2774.495850</td>\n",
       "    </tr>\n",
       "    <tr>\n",
       "      <th>4</th>\n",
       "      <td>0</td>\n",
       "      <td>100.000008</td>\n",
       "      <td>101.787613</td>\n",
       "      <td>2265.986084</td>\n",
       "    </tr>\n",
       "    <tr>\n",
       "      <th>...</th>\n",
       "      <td>...</td>\n",
       "      <td>...</td>\n",
       "      <td>...</td>\n",
       "      <td>...</td>\n",
       "    </tr>\n",
       "    <tr>\n",
       "      <th>195</th>\n",
       "      <td>1</td>\n",
       "      <td>100.000008</td>\n",
       "      <td>101.787613</td>\n",
       "      <td>2316.773926</td>\n",
       "    </tr>\n",
       "    <tr>\n",
       "      <th>196</th>\n",
       "      <td>0</td>\n",
       "      <td>100.000008</td>\n",
       "      <td>101.787613</td>\n",
       "      <td>2459.233643</td>\n",
       "    </tr>\n",
       "    <tr>\n",
       "      <th>197</th>\n",
       "      <td>1</td>\n",
       "      <td>100.000008</td>\n",
       "      <td>101.787613</td>\n",
       "      <td>2625.464600</td>\n",
       "    </tr>\n",
       "    <tr>\n",
       "      <th>198</th>\n",
       "      <td>0</td>\n",
       "      <td>100.000008</td>\n",
       "      <td>101.787613</td>\n",
       "      <td>2636.667480</td>\n",
       "    </tr>\n",
       "    <tr>\n",
       "      <th>199</th>\n",
       "      <td>1</td>\n",
       "      <td>100.000008</td>\n",
       "      <td>101.787613</td>\n",
       "      <td>2861.676025</td>\n",
       "    </tr>\n",
       "  </tbody>\n",
       "</table>\n",
       "<p>200 rows × 4 columns</p>\n",
       "</div>"
      ],
      "text/plain": [
       "     Subsystem  Percentage visible  Area in iris [mm^2]  Area in image [pix^2]\n",
       "0            0          100.000008           101.787613            3405.573486\n",
       "1            1          100.000008           101.787613            3368.374023\n",
       "2            0          100.000008           101.787613            2762.216064\n",
       "3            1          100.000008           101.787613            2774.495850\n",
       "4            0          100.000008           101.787613            2265.986084\n",
       "..         ...                 ...                  ...                    ...\n",
       "195          1          100.000008           101.787613            2316.773926\n",
       "196          0          100.000008           101.787613            2459.233643\n",
       "197          1          100.000008           101.787613            2625.464600\n",
       "198          0          100.000008           101.787613            2636.667480\n",
       "199          1          100.000008           101.787613            2861.676025\n",
       "\n",
       "[200 rows x 4 columns]"
      ]
     },
     "execution_count": 2,
     "metadata": {},
     "output_type": "execute_result"
    }
   ],
   "source": [
    "scene_file_name, \\\n",
    "    sampler_file_name = \\\n",
    "    utils.get_configuration_files(dropdown.value)\n",
    "\n",
    "print(\"Scene generated using \" + scene_file_name + \" configuration file.\")\n",
    "et_scene = \\\n",
    "    seet.scene.SceneModel(\n",
    "        parameter_file_name=scene_file_name, requires_grad=True\n",
    "    )\n",
    "\n",
    "print(\"Sampling parameters from \" + sampler_file_name + \" configuration file.\")\n",
    "scene_sampler = seet.sampler.SceneSampler(\n",
    "    et_scene, num_samples=100, parameter_file_name=sampler_file_name)\n",
    "\n",
    "# df = scene_sampler.generate_data_for_iris_analysis()\n",
    "df = utils.generate_data_for_iris_analysis(scene_sampler)\n",
    "\n",
    "now = datetime.datetime.now()\n",
    "prefix = \"iris - \" + now.strftime(\"%Y-%m-%d @ %H-%M-%S.%f\")\n",
    "results_path = text.value\n",
    "os.makedirs(results_path, exist_ok=True)\n",
    "path_prefix = os.path.join(results_path, prefix)\n",
    "\n",
    "df_name = path_prefix + \" data_frame.pkl\"\n",
    "with open(df_name, 'wb') as file_stream:\n",
    "    pickle.dump(df, file_stream)\n",
    "\n",
    "df"
   ]
  }
 ],
 "metadata": {
  "kernelspec": {
   "display_name": "SEET_env",
   "language": "python",
   "name": "python3"
  },
  "language_info": {
   "codemirror_mode": {
    "name": "ipython",
    "version": 3
   },
   "file_extension": ".py",
   "mimetype": "text/x-python",
   "name": "python",
   "nbconvert_exporter": "python",
   "pygments_lexer": "ipython3",
   "version": "3.11.13"
  }
 },
 "nbformat": 4,
 "nbformat_minor": 2
}
