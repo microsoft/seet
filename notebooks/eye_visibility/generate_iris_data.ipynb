{
  "cells": [
    {
      "cell_type": "markdown",
      "metadata": {},
      "source": [
        "# Generate Data for Analysis of Iris Visibility"
      ]
    },
    {
      "cell_type": "markdown",
      "metadata": {},
      "source": [
        "This notebook generates data for analysis of glint visibility.\n",
        "Generation of 100 combined user-device samples x two eyes x 20 gaze directions,\n",
        "i.e., 4,000 individual samples, takes about 10-15 min on a beefy machine."
      ]
    },
    {
      "cell_type": "code",
      "execution_count": 1,
      "metadata": {},
      "outputs": [
        {
          "data": {
            "application/vnd.jupyter.widget-view+json": {
              "model_id": "10eaeca2e685410ebc1586a2f0c5d20b",
              "version_major": 2,
              "version_minor": 0
            },
            "text/plain": [
              "RadioButtons(description='Device:', index=4, options=('atlas_1.2', 'palau', 'sydney', 'tasman', 'p47', 'p47_PO…"
            ]
          },
          "metadata": {},
          "output_type": "display_data"
        },
        {
          "data": {
            "application/vnd.jupyter.widget-view+json": {
              "model_id": "532fa481bf0242bcb8567443208eb9bd",
              "version_major": 2,
              "version_minor": 0
            },
            "text/plain": [
              "Text(value='.\\\\results\\\\p47', description='Results:', placeholder=\"Default is '.'\")"
            ]
          },
          "metadata": {},
          "output_type": "display_data"
        }
      ],
      "source": [
        "%matplotlib widget\n",
        "\n",
        "import datetime\n",
        "import kiruna\n",
        "import os\n",
        "import pickle\n",
        "import sys\n",
        "import torch\n",
        "\n",
        "sys.path.append(\"..\")\n",
        "import utils\n",
        "\n",
        "dropdown, text = utils.get_experiment_info()"
      ]
    },
    {
      "cell_type": "markdown",
      "metadata": {},
      "source": [
        "## Data Generation"
      ]
    },
    {
      "cell_type": "markdown",
      "metadata": {},
      "source": [
        "This takes 10-15 min on a beefy machine."
      ]
    },
    {
      "cell_type": "code",
      "execution_count": 2,
      "metadata": {},
      "outputs": [
        {
          "name": "stdout",
          "output_type": "stream",
          "text": [
            "Scene generated using C:\\Users\\jayanez\\Documents\\mixedreality.Platform.EyeTracking.Tools\\kiruna\\kiruna\\scene\\p47_POC_scene/p47_POC_scene.json configuration file.\n",
            "Sampling parameters from C:\\Users\\jayanez\\Documents\\mixedreality.Platform.EyeTracking.Tools\\kiruna\\kiruna\\sampler\\default_sampler/default_scene_sampler.json configuration file.\n"
          ]
        },
        {
          "name": "stderr",
          "output_type": "stream",
          "text": [
            "c:\\Users\\jayanez\\Documents\\mixedreality.Platform.EyeTracking.Tools\\kiruna\\envs\\KIRUNA_env\\Lib\\site-packages\\torch\\autograd\\__init__.py:380: UserWarning: CUDA initialization: The NVIDIA driver on your system is too old (found version 11070). Please update your GPU driver by downloading and installing a new version from the URL: http://www.nvidia.com/Download/index.aspx Alternatively, go to: https://pytorch.org to install a PyTorch version that has been compiled with your version of the CUDA driver. (Triggered internally at C:\\cb\\pytorch_1000000000000\\work\\c10\\cuda\\CUDAFunctions.cpp:108.)\n",
            "  return Variable._execution_engine.run_backward(  # Calls into the C++ engine to run the backward pass\n"
          ]
        },
        {
          "data": {
            "text/html": [
              "<div>\n",
              "<style scoped>\n",
              "    .dataframe tbody tr th:only-of-type {\n",
              "        vertical-align: middle;\n",
              "    }\n",
              "\n",
              "    .dataframe tbody tr th {\n",
              "        vertical-align: top;\n",
              "    }\n",
              "\n",
              "    .dataframe thead th {\n",
              "        text-align: right;\n",
              "    }\n",
              "</style>\n",
              "<table border=\"1\" class=\"dataframe\">\n",
              "  <thead>\n",
              "    <tr style=\"text-align: right;\">\n",
              "      <th></th>\n",
              "      <th>Subsystem</th>\n",
              "      <th>Percentage visible</th>\n",
              "      <th>Area in iris [mm^2]</th>\n",
              "      <th>Area in image [pix^2]</th>\n",
              "    </tr>\n",
              "  </thead>\n",
              "  <tbody>\n",
              "    <tr>\n",
              "      <th>0</th>\n",
              "      <td>0</td>\n",
              "      <td>100.000008</td>\n",
              "      <td>101.787613</td>\n",
              "      <td>7316.874512</td>\n",
              "    </tr>\n",
              "    <tr>\n",
              "      <th>1</th>\n",
              "      <td>1</td>\n",
              "      <td>100.000008</td>\n",
              "      <td>101.787613</td>\n",
              "      <td>7286.141113</td>\n",
              "    </tr>\n",
              "    <tr>\n",
              "      <th>2</th>\n",
              "      <td>0</td>\n",
              "      <td>100.000008</td>\n",
              "      <td>101.787613</td>\n",
              "      <td>5841.924316</td>\n",
              "    </tr>\n",
              "    <tr>\n",
              "      <th>3</th>\n",
              "      <td>1</td>\n",
              "      <td>100.000008</td>\n",
              "      <td>101.787613</td>\n",
              "      <td>5952.185059</td>\n",
              "    </tr>\n",
              "    <tr>\n",
              "      <th>4</th>\n",
              "      <td>0</td>\n",
              "      <td>100.000008</td>\n",
              "      <td>101.787613</td>\n",
              "      <td>4911.940918</td>\n",
              "    </tr>\n",
              "    <tr>\n",
              "      <th>...</th>\n",
              "      <td>...</td>\n",
              "      <td>...</td>\n",
              "      <td>...</td>\n",
              "      <td>...</td>\n",
              "    </tr>\n",
              "    <tr>\n",
              "      <th>195</th>\n",
              "      <td>1</td>\n",
              "      <td>100.000008</td>\n",
              "      <td>101.787613</td>\n",
              "      <td>5140.835938</td>\n",
              "    </tr>\n",
              "    <tr>\n",
              "      <th>196</th>\n",
              "      <td>0</td>\n",
              "      <td>100.000008</td>\n",
              "      <td>101.787613</td>\n",
              "      <td>5297.475098</td>\n",
              "    </tr>\n",
              "    <tr>\n",
              "      <th>197</th>\n",
              "      <td>1</td>\n",
              "      <td>100.000008</td>\n",
              "      <td>101.787613</td>\n",
              "      <td>5796.025879</td>\n",
              "    </tr>\n",
              "    <tr>\n",
              "      <th>198</th>\n",
              "      <td>0</td>\n",
              "      <td>100.000008</td>\n",
              "      <td>101.787613</td>\n",
              "      <td>5624.375000</td>\n",
              "    </tr>\n",
              "    <tr>\n",
              "      <th>199</th>\n",
              "      <td>1</td>\n",
              "      <td>100.000008</td>\n",
              "      <td>101.787613</td>\n",
              "      <td>6201.197754</td>\n",
              "    </tr>\n",
              "  </tbody>\n",
              "</table>\n",
              "<p>200 rows × 4 columns</p>\n",
              "</div>"
            ],
            "text/plain": [
              "     Subsystem  Percentage visible  Area in iris [mm^2]  Area in image [pix^2]\n",
              "0            0          100.000008           101.787613            7316.874512\n",
              "1            1          100.000008           101.787613            7286.141113\n",
              "2            0          100.000008           101.787613            5841.924316\n",
              "3            1          100.000008           101.787613            5952.185059\n",
              "4            0          100.000008           101.787613            4911.940918\n",
              "..         ...                 ...                  ...                    ...\n",
              "195          1          100.000008           101.787613            5140.835938\n",
              "196          0          100.000008           101.787613            5297.475098\n",
              "197          1          100.000008           101.787613            5796.025879\n",
              "198          0          100.000008           101.787613            5624.375000\n",
              "199          1          100.000008           101.787613            6201.197754\n",
              "\n",
              "[200 rows x 4 columns]"
            ]
          },
          "execution_count": 2,
          "metadata": {},
          "output_type": "execute_result"
        }
      ],
      "source": [
        "scene_file_name, \\\n",
        "    sampler_file_name = \\\n",
        "    utils.get_configuration_files(dropdown.value)\n",
        "\n",
        "print(\"Scene generated using \" + scene_file_name + \" configuration file.\")\n",
        "et_scene = \\\n",
        "    kiruna.scene.SceneModel(\n",
        "        parameter_file_name=scene_file_name, requires_grad=True\n",
        "    )\n",
        "\n",
        "print(\"Sampling parameters from \" + sampler_file_name + \" configuration file.\")\n",
        "scene_sampler = kiruna.sampler.SceneSampler(\n",
        "    et_scene, num_samples=100, parameter_file_name=sampler_file_name)\n",
        "\n",
        "df = scene_sampler.generate_data_for_iris_analysis()\n",
        "\n",
        "now = datetime.datetime.now()\n",
        "prefix = \"iris - \" + now.strftime(\"%Y-%m-%d @ %H-%M-%S.%f\")\n",
        "results_path = text.value\n",
        "os.makedirs(results_path, exist_ok=True)\n",
        "path_prefix = os.path.join(results_path, prefix)\n",
        "\n",
        "df_name = path_prefix + \" data_frame.pkl\"\n",
        "with open(df_name, 'wb') as file_stream:\n",
        "    pickle.dump(df, file_stream)\n",
        "\n",
        "df"
      ]
    }
  ],
  "metadata": {
    "kernelspec": {
      "display_name": "Python 3.8.13 ('base')",
      "language": "python",
      "name": "python3"
    },
    "language_info": {
      "codemirror_mode": {
        "name": "ipython",
        "version": 3
      },
      "file_extension": ".py",
      "mimetype": "text/x-python",
      "name": "python",
      "nbconvert_exporter": "python",
      "pygments_lexer": "ipython3",
      "version": "3.11.6"
    },
    "orig_nbformat": 4,
    "vscode": {
      "interpreter": {
        "hash": "c6e74ef56ea646d214329d5f12937357b8d917f3a9ef914e4b619422d41457ef"
      }
    }
  },
  "nbformat": 4,
  "nbformat_minor": 2
}
