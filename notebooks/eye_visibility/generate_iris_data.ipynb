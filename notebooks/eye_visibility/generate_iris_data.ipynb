{
 "cells": [
  {
   "cell_type": "markdown",
   "metadata": {},
   "source": [
    "# Generate Data for Analysis of Iris Visibility"
   ]
  },
  {
   "cell_type": "markdown",
   "metadata": {},
   "source": [
    "This notebook generates data for analysis of glint visibility.\n",
    "Generation of 100 combined user-device samples x two eyes x 20 gaze directions,\n",
    "i.e., 4,000 individual samples, takes about 10-15 min on a beefy machine."
   ]
  },
  {
   "cell_type": "code",
   "execution_count": null,
   "metadata": {},
   "outputs": [],
   "source": [
    "%matplotlib widget\n",
    "\n",
    "import datetime\n",
    "import seet\n",
    "import os\n",
    "import pickle\n",
    "import sys\n",
    "import torch\n",
    "import seet.core as core\n",
    "import pandas\n",
    "\n",
    "sys.path.append(\"..\")\n",
    "import utils\n",
    "\n",
    "dropdown, text = utils.get_experiment_info()"
   ]
  },
  {
   "cell_type": "markdown",
   "metadata": {},
   "source": [
    "## Data Generation"
   ]
  },
  {
   "cell_type": "markdown",
   "metadata": {},
   "source": [
    "This takes 10-15 min on a beefy machine."
   ]
  },
  {
   "cell_type": "code",
   "execution_count": null,
   "metadata": {},
   "outputs": [],
   "source": [
    "scene_file_name, \\\n",
    "    sampler_file_name = \\\n",
    "    utils.get_configuration_files(dropdown.value)\n",
    "\n",
    "print(\"Scene generated using \" + scene_file_name + \" configuration file.\")\n",
    "et_scene = \\\n",
    "    seet.scene.SceneModel(\n",
    "        parameter_file_name=scene_file_name, requires_grad=True\n",
    "    )\n",
    "\n",
    "print(\"Sampling parameters from \" + sampler_file_name + \" configuration file.\")\n",
    "scene_sampler = seet.sampler.SceneSampler(\n",
    "    et_scene, num_samples=100, parameter_file_name=sampler_file_name)\n",
    "\n",
    "df = scene_sampler.generate_data_for_iris_analysis()\n",
    "\n",
    "now = datetime.datetime.now()\n",
    "prefix = \"iris - \" + now.strftime(\"%Y-%m-%d @ %H-%M-%S.%f\")\n",
    "results_path = text.value\n",
    "os.makedirs(results_path, exist_ok=True)\n",
    "path_prefix = os.path.join(results_path, prefix)\n",
    "\n",
    "df_name = path_prefix + \" data_frame.pkl\"\n",
    "with open(df_name, 'wb') as file_stream:\n",
    "    pickle.dump(df, file_stream)\n",
    "\n",
    "df"
   ]
  }
 ],
 "metadata": {
  "kernelspec": {
   "display_name": "SEET_env",
   "language": "python",
   "name": "python3"
  },
  "language_info": {
   "codemirror_mode": {
    "name": "ipython",
    "version": 3
   },
   "file_extension": ".py",
   "mimetype": "text/x-python",
   "name": "python",
   "nbconvert_exporter": "python",
   "pygments_lexer": "ipython3",
   "version": "3.12.11"
  }
 },
 "nbformat": 4,
 "nbformat_minor": 2
}
