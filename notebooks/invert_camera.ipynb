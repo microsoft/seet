{
 "cells": [
  {
   "cell_type": "code",
   "execution_count": 1,
   "metadata": {},
   "outputs": [
    {
     "name": "stdout",
     "output_type": "stream",
     "text": [
      "Original matrix:\n",
      "[[ -0.821323  -0.399593   0.407129  15.330742]\n",
      " [ -0.176946   0.856931   0.484107 -11.724613]\n",
      " [ -0.542327   0.325568  -0.774523  20.950329]\n",
      " [  0.         0.         0.         1.      ]]\n",
      "Inverted matrix:\n",
      "[[-8.21322826e-01 -1.76945862e-01 -5.42327434e-01  2.18788048e+01]\n",
      " [-3.99593194e-01  8.56930926e-01  3.25568488e-01  9.35247670e+00]\n",
      " [ 4.07129016e-01  4.84106742e-01 -7.74523814e-01  1.56609030e+01]\n",
      " [-3.30826916e-17 -4.52533788e-17 -8.60144192e-17  1.00000000e+00]]\n"
     ]
    }
   ],
   "source": [
    "import numpy\n",
    "\n",
    "matrix = numpy.array(\n",
    "    [\n",
    "        [-0.821323, -0.399593, 0.407129, 15.330742],\n",
    "        [-0.176946, 0.856931, 0.484107, -11.724613],\n",
    "        [-0.542327, 0.325568, -0.774523, 20.950329],\n",
    "        [0.000000, 0.000000, 0.000000, 1.000000]\n",
    "    ]\n",
    ")\n",
    "\n",
    "inv_matrix = numpy.linalg.pinv(matrix)\n",
    "\n",
    "print(\"Original matrix:\")\n",
    "print(matrix)\n",
    "print(\"Inverted matrix:\")\n",
    "print(inv_matrix)"
   ]
  }
 ],
 "metadata": {
  "kernelspec": {
   "display_name": "Python 3",
   "language": "python",
   "name": "python3"
  },
  "language_info": {
   "codemirror_mode": {
    "name": "ipython",
    "version": 3
   },
   "file_extension": ".py",
   "mimetype": "text/x-python",
   "name": "python",
   "nbconvert_exporter": "python",
   "pygments_lexer": "ipython3",
   "version": "3.11.6"
  }
 },
 "nbformat": 4,
 "nbformat_minor": 2
}
