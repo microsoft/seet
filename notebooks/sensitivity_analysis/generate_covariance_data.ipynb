{
 "cells": [
  {
   "cell_type": "markdown",
   "metadata": {},
   "source": [
    "# Generate Data for Sensitivity Analysis of Eye Shape\n",
    "\n",
    "This notebook generates data for analysis of the sensitivity of eye-shape\n",
    "parameters with respect to noise in the input data of the eye-shape estimation\n",
    "algorithm."
   ]
  },
  {
   "cell_type": "code",
   "execution_count": 1,
   "metadata": {},
   "outputs": [
    {
     "data": {
      "application/vnd.jupyter.widget-view+json": {
       "model_id": "eb09d79e34a1466ba58c559cd3ed380c",
       "version_major": 2,
       "version_minor": 0
      },
      "text/plain": [
       "RadioButtons(description='Device:', options=('atlas_1.2', 'palau', 'sydney', 'tasman'), value='atlas_1.2')"
      ]
     },
     "metadata": {},
     "output_type": "display_data"
    },
    {
     "data": {
      "application/vnd.jupyter.widget-view+json": {
       "model_id": "6be082476b93477e9937500fadca7bce",
       "version_major": 2,
       "version_minor": 0
      },
      "text/plain": [
       "Text(value='.\\\\results\\\\atlas_1.2', description='Results:', placeholder=\"Default is '.'\")"
      ]
     },
     "metadata": {},
     "output_type": "display_data"
    }
   ],
   "source": [
    "%matplotlib widget\n",
    "\n",
    "import datetime\n",
    "import seet\n",
    "import os\n",
    "import pickle\n",
    "import sys\n",
    "\n",
    "sys.path.append(\"..\")\n",
    "import utils\n",
    "\n",
    "dropdown_widget, text_widget = utils.get_experiment_info()"
   ]
  },
  {
   "cell_type": "markdown",
   "metadata": {},
   "source": [
    "## Data Generation"
   ]
  },
  {
   "cell_type": "code",
   "execution_count": 2,
   "metadata": {},
   "outputs": [
    {
     "name": "stdout",
     "output_type": "stream",
     "text": [
      "Scene configuration file:\n",
      "D:\\analog\\mixedreality.Platform.EyeTracking.Tools\\seet\\seet\\scene\\atlas_1.2_scene\\atlas_1.2_scene.json\n",
      "Sampler configuration file:\n",
      "D:\\analog\\mixedreality.Platform.EyeTracking.Tools\\seet\\seet\\sampler\\default_sampler\\default_scene_sampler.json\n",
      "Collecting data for scene 1.\n",
      "Collecting data for scene 2.\n",
      "Collecting data for scene 3.\n",
      "Collecting data for scene 4.\n",
      "Collecting data for scene 5.\n",
      "Collecting data for scene 6.\n",
      "Collecting data for scene 7.\n",
      "Collecting data for scene 8.\n",
      "Collecting data for scene 9.\n"
     ]
    }
   ],
   "source": [
    "scene_file_name, \\\n",
    "    sampler_file_name = \\\n",
    "    utils.get_configuration_files(dropdown_widget.value)\n",
    "\n",
    "print(\"Scene configuration file:\")\n",
    "print(scene_file_name)\n",
    "et_scene = \\\n",
    "    seet.scene.SceneModel(\n",
    "        parameter_file_name=scene_file_name, requires_grad=True\n",
    "    )\n",
    "\n",
    "print(\"Sampler configuration file:\")\n",
    "print(sampler_file_name)\n",
    "scene_sampler = seet.sampler.SceneSampler(\n",
    "    et_scene, num_samples=10, parameter_file_name=sampler_file_name)\n",
    "\n",
    "shape_derivatives, \\\n",
    "    shape_indices, \\\n",
    "    pose_derivatives, \\\n",
    "    pose_indices = \\\n",
    "    scene_sampler.generate_data_for_sensitivity_analysis()\n",
    "\n",
    "now = datetime.datetime.now()\n",
    "prefix = now.strftime(\"%Y-%m-%d @ %H-%M-%S.%f\")\n",
    "results_path = text_widget.value\n",
    "os.makedirs(results_path, exist_ok=True)\n",
    "path_prefix = os.path.join(results_path, prefix)\n",
    "\n",
    "data_dict = \\\n",
    "    {\n",
    "        \"shape derivatives\": shape_derivatives,\n",
    "        \"shape indices\": shape_indices,\n",
    "        \"pose derivatives\": pose_derivatives,\n",
    "        \"pose indices\": pose_indices\n",
    "    }\n",
    "dict_name = path_prefix + \" dict.pkl\"\n",
    "with open(dict_name, 'wb') as file_stream:\n",
    "    pickle.dump(data_dict, file_stream)"
   ]
  }
 ],
 "metadata": {
  "kernelspec": {
   "display_name": "Python 3.10.7 64-bit",
   "language": "python",
   "name": "python3"
  },
  "language_info": {
   "codemirror_mode": {
    "name": "ipython",
    "version": 3
   },
   "file_extension": ".py",
   "mimetype": "text/x-python",
   "name": "python",
   "nbconvert_exporter": "python",
   "pygments_lexer": "ipython3",
   "version": "3.10.7 (tags/v3.10.7:6cc6b13, Sep  5 2022, 14:08:36) [MSC v.1933 64 bit (AMD64)]"
  },
  "orig_nbformat": 4,
  "vscode": {
   "interpreter": {
    "hash": "844583427e5038811000acc33dbd3886a0bc42a322e35230bd3f0aa9b2b5c5a0"
   }
  }
 },
 "nbformat": 4,
 "nbformat_minor": 2
}
