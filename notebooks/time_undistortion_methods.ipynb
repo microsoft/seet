{
  "cells": [
    {
      "cell_type": "code",
      "execution_count": 2,
      "metadata": {},
      "outputs": [
        {
          "name": "stdout",
          "output_type": "stream",
          "text": [
            "112 µs ± 1.64 µs per loop (mean ± std. dev. of 7 runs, 10,000 loops each)\n",
            "341 µs ± 5.98 µs per loop (mean ± std. dev. of 7 runs, 1,000 loops each)\n"
          ]
        }
      ],
      "source": [
        "import sys\n",
        "\n",
        "# Need to find a better way of doing this.\n",
        "sys.path.append(\"..\")\n",
        "\n",
        "import core.groups as groups\n",
        "import core.node as node\n",
        "import device.polynomial3K_camera as poly3K_camera\n",
        "import torch\n",
        "\n",
        "fake_SubsystemModel = node.Node(name=\"fake ET subsystem\")\n",
        "transform_toSubsystemModel_fromCamera = groups.SE3.create_identity()\n",
        "point_in3D = torch.tensor([1.0, 2.0, 3.0], requires_grad=True)\n",
        "\n",
        "camera = \\\n",
        "    poly3K_camera.Polynomial3KCamera(\n",
        "        fake_SubsystemModel,\n",
        "        transform_toSubsystemModel_fromCamera,\n",
        "        requires_grad=True\n",
        "    )\n",
        "\n",
        "point_inPixels = camera.project_toPixels_fromCamera(point_in3D)\n",
        "point_inImagePlane = camera.get_point_inImagePlane(point_inPixels)\n",
        "\n",
        "distorted_point_inImagePlane = \\\n",
        "    camera.distort_point_inUndistortedImage(point_inImagePlane)\n",
        "\n",
        "# New method is 3x faster than old (alt_) method.\n",
        "%timeit camera.undistort_point_inDistortedImage(distorted_point_inImagePlane)\n",
        "%timeit camera.alt_undistort_point_inDistortedImage(distorted_point_inImagePlane)"
      ]
    }
  ],
  "metadata": {
    "interpreter": {
      "hash": "c6e74ef56ea646d214329d5f12937357b8d917f3a9ef914e4b619422d41457ef"
    },
    "kernelspec": {
      "display_name": "Python 3.8.13 ('base')",
      "language": "python",
      "name": "python3"
    },
    "language_info": {
      "codemirror_mode": {
        "name": "ipython",
        "version": 3
      },
      "file_extension": ".py",
      "mimetype": "text/x-python",
      "name": "python",
      "nbconvert_exporter": "python",
      "pygments_lexer": "ipython3",
      "version": "3.8.13"
    },
    "orig_nbformat": 4
  },
  "nbformat": 4,
  "nbformat_minor": 2
}
